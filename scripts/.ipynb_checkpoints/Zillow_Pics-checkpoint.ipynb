{
 "cells": [
  {
   "cell_type": "code",
   "execution_count": 110,
   "metadata": {
    "collapsed": false
   },
   "outputs": [
    {
     "data": {
      "text/html": [
       "<div>\n",
       "<table border=\"1\" class=\"dataframe\">\n",
       "  <thead>\n",
       "    <tr style=\"text-align: right;\">\n",
       "      <th></th>\n",
       "      <th>Unnamed: 0</th>\n",
       "      <th>address</th>\n",
       "      <th>city</th>\n",
       "      <th>state</th>\n",
       "      <th>zip</th>\n",
       "      <th>price</th>\n",
       "      <th>sqft</th>\n",
       "      <th>bedrooms</th>\n",
       "      <th>bathrooms</th>\n",
       "      <th>days_on_zillow</th>\n",
       "      <th>sale_type</th>\n",
       "      <th>url</th>\n",
       "      <th>latitude</th>\n",
       "      <th>longitude</th>\n",
       "      <th>photo_url</th>\n",
       "    </tr>\n",
       "  </thead>\n",
       "  <tbody>\n",
       "    <tr>\n",
       "      <th>0</th>\n",
       "      <td>0</td>\n",
       "      <td>181 Ofarrell St Ste 305</td>\n",
       "      <td>San Francisco</td>\n",
       "      <td>CA</td>\n",
       "      <td>94102.0</td>\n",
       "      <td>1040000.0</td>\n",
       "      <td>1334.0</td>\n",
       "      <td>1.0</td>\n",
       "      <td>2.0</td>\n",
       "      <td>NaN</td>\n",
       "      <td>Condo For Sale</td>\n",
       "      <td>http://www.zillow.com/homes/for_sale/82785263_...</td>\n",
       "      <td>37.786274</td>\n",
       "      <td>-122.407564</td>\n",
       "      <td></td>\n",
       "    </tr>\n",
       "  </tbody>\n",
       "</table>\n",
       "</div>"
      ],
      "text/plain": [
       "   Unnamed: 0                  address           city state      zip  \\\n",
       "0           0  181 Ofarrell St Ste 305  San Francisco    CA  94102.0   \n",
       "\n",
       "       price    sqft  bedrooms  bathrooms  days_on_zillow       sale_type  \\\n",
       "0  1040000.0  1334.0       1.0        2.0             NaN  Condo For Sale   \n",
       "\n",
       "                                                 url   latitude   longitude  \\\n",
       "0  http://www.zillow.com/homes/for_sale/82785263_...  37.786274 -122.407564   \n",
       "\n",
       "  photo_url  \n",
       "0            "
      ]
     },
     "execution_count": 110,
     "metadata": {},
     "output_type": "execute_result"
    }
   ],
   "source": [
    "import numpy as np\n",
    "import pandas as pd\n",
    "from bs4 import BeautifulSoup\n",
    "import requests\n",
    "\n",
    "df = pd.read_csv('data/sf_zillow_apr_23_w_latlon.csv')\n",
    "df['photo_url'] = \"\"\n",
    "df.head(1)"
   ]
  },
  {
   "cell_type": "code",
   "execution_count": 107,
   "metadata": {
    "collapsed": false
   },
   "outputs": [
    {
     "name": "stdout",
     "output_type": "stream",
     "text": [
      "https://photos.zillowstatic.com/p_h/ISqtn3q6r2841e1000000000.jpg\n",
      "https://photos.zillowstatic.com/p_h/ISapt0vacl67zl1000000000.jpg\n",
      "https://photos.zillowstatic.com/p_h/ISah3bj1spks631000000000.jpg\n",
      "https://photos.zillowstatic.com/p_h/ISmutpaks5jcm80000000000.jpg\n",
      "https://photos.zillowstatic.com/p_h/IS6avwvem7mboa1000000000.jpg\n",
      "https://photos.zillowstatic.com/p_h/ISqx6hoa0pqbvk0000000000.jpg\n",
      "https://photos.zillowstatic.com/p_h/IS233bl9a8lqxd0000000000.jpg\n",
      "https://photos.zillowstatic.com/p_h/ISaxn9o1yjshi31000000000.jpg\n",
      "https://photos.zillowstatic.com/p_h/ISuw0fr8b84iw00000000000.jpg\n",
      "https://photos.zillowstatic.com/p_h/ISyfycsyazuk611000000000.jpg\n",
      "Couldnt find li for http://www.zillow.com/homes/for_sale/15077615_zpid/any_days/globalrelevanceex_sort/29.759534,-95.335321,29.675003,-95.502863_rect/12_zm/\n",
      "None\n",
      "Couldnt find li for http://www.zillow.com/homes/for_sale/116587611_zpid/any_days/globalrelevanceex_sort/29.759534,-95.335321,29.675003,-95.502863_rect/12_zm/\n",
      "None\n",
      "Couldnt find li for http://www.zillow.com/homes/for_sale/128800116_zpid/any_days/globalrelevanceex_sort/29.759534,-95.335321,29.675003,-95.502863_rect/12_zm/\n",
      "None\n",
      "Couldnt find li for http://www.zillow.com/homes/for_sale/127115971_zpid/any_days/globalrelevanceex_sort/29.759534,-95.335321,29.675003,-95.502863_rect/12_zm/\n",
      "None\n",
      "https://photos.zillowstatic.com/p_h/IS-1e14c0bnk1e1p.jpg\n",
      "Couldnt find li for http://www.zillow.com/homes/for_sale/96045227_zpid/any_days/globalrelevanceex_sort/29.759534,-95.335321,29.675003,-95.502863_rect/12_zm/\n",
      "None\n",
      "https://photos.zillowstatic.com/p_h/IS6qn5ydsc57r30000000000.jpg\n",
      "https://photos.zillowstatic.com/p_h/IS2bhfcbyj1dbr0000000000.jpg\n",
      "https://photos.zillowstatic.com/p_h/ISec22tq65lp430000000000.jpg\n",
      "https://photos.zillowstatic.com/p_h/ISe0x1chv19pwk1000000000.jpg\n",
      "https://photos.zillowstatic.com/p_h/ISivfw15t9lq610000000000.jpg\n",
      "https://photos.zillowstatic.com/p_h/ISu044k7clebgf0000000000.jpg\n",
      "https://photos.zillowstatic.com/p_h/IS9hn6lvrcpdzu1000000000.jpg\n",
      "https://photos.zillowstatic.com/p_h/ISyvifg417t6vd0000000000.jpg\n",
      "https://photos.zillowstatic.com/p_h/ISapphp6htdsws1000000000.jpg\n",
      "https://photos.zillowstatic.com/p_h/ISukz9hc4jai891000000000.jpg\n",
      "https://photos.zillowstatic.com/p_h/IS2nainw0i8ki00000000000.jpg\n",
      "https://photos.zillowstatic.com/p_h/ISifvh8veoja7z0000000000.jpg\n",
      "https://photos.zillowstatic.com/p_h/ISmywubonfcjnp1000000000.jpg\n",
      "https://photos.zillowstatic.com/p_h/IS6yxmg21xbe8n0000000000.jpg\n",
      "Couldnt find li for http://www.zillow.com/homes/for_sale/15147989_zpid/any_days/globalrelevanceex_sort/29.759534,-95.335321,29.675003,-95.502863_rect/12_zm/\n",
      "None\n",
      "https://photos.zillowstatic.com/p_h/ISuspbmcu9wu8v1000000000.jpg\n",
      "https://photos.zillowstatic.com/p_h/ISifb2fejjgxzz0000000000.jpg\n",
      "https://photos.zillowstatic.com/p_h/IS2rdrjrsomzwj0000000000.jpg\n",
      "https://photos.zillowstatic.com/p_h/IS272hw27yg5l40000000000.jpg\n",
      "Couldnt find li for http://www.zillow.com/homes/for_sale/127254234_zpid/any_days/globalrelevanceex_sort/29.759534,-95.335321,29.675003,-95.502863_rect/12_zm/\n",
      "None\n",
      "https://photos.zillowstatic.com/p_h/ISql1tst2evrlp0000000000.jpg\n",
      "https://photos.zillowstatic.com/p_h/ISe4s4mggm4yhi0000000000.jpg\n",
      "https://photos.zillowstatic.com/p_h/IS2bt0l5w4ptar0000000000.jpg\n",
      "https://photos.zillowstatic.com/p_h/ISintlcqopayeq0000000000.jpg\n"
     ]
    }
   ],
   "source": [
    "def get_photo_url(url):\n",
    "    resp = requests.get(url)\n",
    "    soup = BeautifulSoup(resp.text, 'html.parser')\n",
    "    li = soup.find('li', class_=\"lg-tile current\")\n",
    "    if li:\n",
    "        li_txt = li.text\n",
    "        check_str = '\"ThumbnailURL\":\"'\n",
    "        if check_str in li_txt:\n",
    "            beg = li_txt.find(check_str)\n",
    "            end = li_txt.find('\"', beg + len(check_str))\n",
    "            return li_txt[beg+len(check_str):end]\n",
    "        else:\n",
    "            li_txt = str(li.img)\n",
    "            check_str = 'src=\"'\n",
    "            if check_str in li_txt:\n",
    "                beg = li_txt.find(check_str)\n",
    "                end = li_txt.find('\"', beg + len(check_str))\n",
    "                return li_txt[beg+len(check_str):end]\n",
    "    else:\n",
    "        print(\"Couldnt find li for {}\".format(url))\n",
    "        return \"OOPS\"\n",
    "        \n",
    "for i in bar(range(num_rows)):\n",
    "    h = df.iloc[i]\n",
    "    if h['photo_url'] != \"\":\n",
    "        continue\n",
    "    df.set_value(i, 'photo_url', get_photo_url(h['url']))"
   ]
  }
 ],
 "metadata": {
  "kernelspec": {
   "display_name": "Python 2",
   "language": "python",
   "name": "python2"
  },
  "language_info": {
   "codemirror_mode": {
    "name": "ipython",
    "version": 2
   },
   "file_extension": ".py",
   "mimetype": "text/x-python",
   "name": "python",
   "nbconvert_exporter": "python",
   "pygments_lexer": "ipython2",
   "version": "2.7.13"
  }
 },
 "nbformat": 4,
 "nbformat_minor": 2
}
