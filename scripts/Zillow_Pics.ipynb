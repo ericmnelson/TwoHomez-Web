{
 "cells": [
  {
   "cell_type": "code",
   "execution_count": 112,
   "metadata": {
    "collapsed": false
   },
   "outputs": [
    {
     "data": {
      "text/html": [
       "<div>\n",
       "<table border=\"1\" class=\"dataframe\">\n",
       "  <thead>\n",
       "    <tr style=\"text-align: right;\">\n",
       "      <th></th>\n",
       "      <th>Unnamed: 0</th>\n",
       "      <th>address</th>\n",
       "      <th>city</th>\n",
       "      <th>state</th>\n",
       "      <th>zip</th>\n",
       "      <th>price</th>\n",
       "      <th>sqft</th>\n",
       "      <th>bedrooms</th>\n",
       "      <th>bathrooms</th>\n",
       "      <th>days_on_zillow</th>\n",
       "      <th>sale_type</th>\n",
       "      <th>url</th>\n",
       "      <th>latitude</th>\n",
       "      <th>longitude</th>\n",
       "      <th>photo_url</th>\n",
       "    </tr>\n",
       "  </thead>\n",
       "  <tbody>\n",
       "    <tr>\n",
       "      <th>0</th>\n",
       "      <td>0</td>\n",
       "      <td>181 Ofarrell St Ste 305</td>\n",
       "      <td>San Francisco</td>\n",
       "      <td>CA</td>\n",
       "      <td>94102.0</td>\n",
       "      <td>1040000.0</td>\n",
       "      <td>1334.0</td>\n",
       "      <td>1.0</td>\n",
       "      <td>2.0</td>\n",
       "      <td>NaN</td>\n",
       "      <td>Condo For Sale</td>\n",
       "      <td>http://www.zillow.com/homes/for_sale/82785263_...</td>\n",
       "      <td>37.786274</td>\n",
       "      <td>-122.407564</td>\n",
       "      <td></td>\n",
       "    </tr>\n",
       "  </tbody>\n",
       "</table>\n",
       "</div>"
      ],
      "text/plain": [
       "   Unnamed: 0                  address           city state      zip  \\\n",
       "0           0  181 Ofarrell St Ste 305  San Francisco    CA  94102.0   \n",
       "\n",
       "       price    sqft  bedrooms  bathrooms  days_on_zillow       sale_type  \\\n",
       "0  1040000.0  1334.0       1.0        2.0             NaN  Condo For Sale   \n",
       "\n",
       "                                                 url   latitude   longitude  \\\n",
       "0  http://www.zillow.com/homes/for_sale/82785263_...  37.786274 -122.407564   \n",
       "\n",
       "  photo_url  \n",
       "0            "
      ]
     },
     "execution_count": 112,
     "metadata": {},
     "output_type": "execute_result"
    }
   ],
   "source": [
    "import numpy as np\n",
    "import pandas as pd\n",
    "from bs4 import BeautifulSoup\n",
    "import requests\n",
    "\n",
    "import progressbar\n",
    "bar = progressbar.ProgressBar()\n",
    "\n",
    "df = pd.read_csv('data/sf_zillow_apr_23_w_latlon.csv')\n",
    "df['photo_url'] = \"\"\n",
    "df.head(1)"
   ]
  },
  {
   "cell_type": "code",
   "execution_count": 114,
   "metadata": {
    "collapsed": false
   },
   "outputs": [
    {
     "name": "stderr",
     "output_type": "stream",
     "text": [
      "  4% |###                                                                     |\r"
     ]
    },
    {
     "name": "stdout",
     "output_type": "stream",
     "text": [
      "Couldnt find li for http://www.zillow.com/homes/for_sale/125271727_zpid/any_days/globalrelevanceex_sort/29.759534,-95.335321,29.675003,-95.502863_rect/12_zm/\n"
     ]
    },
    {
     "name": "stderr",
     "output_type": "stream",
     "text": [
      " 23% |################                                                        |\r"
     ]
    },
    {
     "name": "stdout",
     "output_type": "stream",
     "text": [
      "Couldnt find li for http://www.zillow.com/homes/for_sale/2095998204_zpid/any_days/globalrelevanceex_sort/29.759534,-95.335321,29.675003,-95.502863_rect/12_zm/\n"
     ]
    },
    {
     "name": "stderr",
     "output_type": "stream",
     "text": [
      " 24% |#################                                                       |\r"
     ]
    },
    {
     "name": "stdout",
     "output_type": "stream",
     "text": [
      "Couldnt find li for http://www.zillow.com/homes/for_sale/2096782206_zpid/any_days/globalrelevanceex_sort/29.759534,-95.335321,29.675003,-95.502863_rect/12_zm/\n",
      "Couldnt find li for http://www.zillow.com/homes/for_sale/2095998203_zpid/any_days/globalrelevanceex_sort/29.759534,-95.335321,29.675003,-95.502863_rect/12_zm/\n"
     ]
    },
    {
     "name": "stderr",
     "output_type": "stream",
     "text": [
      " 32% |#######################                                                 |\r"
     ]
    },
    {
     "name": "stdout",
     "output_type": "stream",
     "text": [
      "Couldnt find li for http://www.zillow.com/homes/for_sale/15075496_zpid/any_days/globalrelevanceex_sort/29.759534,-95.335321,29.675003,-95.502863_rect/12_zm/\n"
     ]
    },
    {
     "name": "stderr",
     "output_type": "stream",
     "text": [
      " 33% |#######################                                                 |\r"
     ]
    },
    {
     "name": "stdout",
     "output_type": "stream",
     "text": [
      "Couldnt find li for http://www.zillow.com/homes/for_sale/2096951111_zpid/any_days/globalrelevanceex_sort/29.759534,-95.335321,29.675003,-95.502863_rect/12_zm/\n"
     ]
    },
    {
     "name": "stderr",
     "output_type": "stream",
     "text": [
      " 43% |###############################                                         |\r"
     ]
    },
    {
     "name": "stdout",
     "output_type": "stream",
     "text": [
      "Couldnt find li for http://www.zillow.com/homes/for_sale/80755908_zpid/any_days/globalrelevanceex_sort/29.759534,-95.335321,29.675003,-95.502863_rect/12_zm/\n"
     ]
    },
    {
     "name": "stderr",
     "output_type": "stream",
     "text": [
      " 49% |###################################                                     |\r"
     ]
    },
    {
     "name": "stdout",
     "output_type": "stream",
     "text": [
      "Couldnt find li for http://www.zillow.com/homes/for_sale/15169609_zpid/any_days/globalrelevanceex_sort/29.759534,-95.335321,29.675003,-95.502863_rect/12_zm/\n"
     ]
    },
    {
     "name": "stderr",
     "output_type": "stream",
     "text": [
      " 52% |#####################################                                   |\r"
     ]
    },
    {
     "name": "stdout",
     "output_type": "stream",
     "text": [
      "Couldnt find li for http://www.zillow.com/homes/for_sale/15129663_zpid/any_days/globalrelevanceex_sort/29.759534,-95.335321,29.675003,-95.502863_rect/12_zm/\n"
     ]
    },
    {
     "name": "stderr",
     "output_type": "stream",
     "text": [
      " 59% |###########################################                             |\r"
     ]
    },
    {
     "name": "stdout",
     "output_type": "stream",
     "text": [
      "Couldnt find li for http://www.zillow.com/homes/for_sale/2096972145_zpid/any_days/globalrelevanceex_sort/29.759534,-95.335321,29.675003,-95.502863_rect/12_zm/\n",
      "Couldnt find li for http://www.zillow.com/homes/for_sale/2096408550_zpid/any_days/globalrelevanceex_sort/29.759534,-95.335321,29.675003,-95.502863_rect/12_zm/\n"
     ]
    },
    {
     "name": "stderr",
     "output_type": "stream",
     "text": [
      " 66% |###############################################                         |\r"
     ]
    },
    {
     "name": "stdout",
     "output_type": "stream",
     "text": [
      "Couldnt find li for http://www.zillow.com/homes/for_sale/2095290777_zpid/any_days/globalrelevanceex_sort/29.759534,-95.335321,29.675003,-95.502863_rect/12_zm/\n"
     ]
    },
    {
     "name": "stderr",
     "output_type": "stream",
     "text": [
      " 84% |############################################################            |\r"
     ]
    },
    {
     "name": "stdout",
     "output_type": "stream",
     "text": [
      "Couldnt find li for http://www.zillow.com/homes/for_sale/2128171278_zpid/any_days/globalrelevanceex_sort/29.759534,-95.335321,29.675003,-95.502863_rect/12_zm/\n"
     ]
    },
    {
     "name": "stderr",
     "output_type": "stream",
     "text": [
      " 87% |###############################################################         |\r"
     ]
    },
    {
     "name": "stdout",
     "output_type": "stream",
     "text": [
      "Couldnt find li for http://www.zillow.com/homes/for_sale/82786508_zpid/any_days/globalrelevanceex_sort/29.759534,-95.335321,29.675003,-95.502863_rect/12_zm/\n"
     ]
    },
    {
     "name": "stderr",
     "output_type": "stream",
     "text": [
      " 94% |###################################################################     |\r"
     ]
    },
    {
     "name": "stdout",
     "output_type": "stream",
     "text": [
      "Couldnt find li for http://www.zillow.com/homes/for_sale/54854280_zpid/any_days/globalrelevanceex_sort/29.759534,-95.335321,29.675003,-95.502863_rect/12_zm/\n"
     ]
    },
    {
     "name": "stderr",
     "output_type": "stream",
     "text": [
      " 96% |#####################################################################   |\r"
     ]
    },
    {
     "name": "stdout",
     "output_type": "stream",
     "text": [
      "Couldnt find li for http://www.zillow.com/homes/for_sale/15170356_zpid/any_days/globalrelevanceex_sort/29.759534,-95.335321,29.675003,-95.502863_rect/12_zm/\n"
     ]
    },
    {
     "name": "stderr",
     "output_type": "stream",
     "text": [
      "100% |########################################################################|\n"
     ]
    }
   ],
   "source": [
    "def get_photo_url(url):\n",
    "    resp = requests.get(url)\n",
    "    soup = BeautifulSoup(resp.text, 'html.parser')\n",
    "    li = soup.find('li', class_=\"lg-tile current\")\n",
    "    if li:\n",
    "        li_txt = li.text\n",
    "        check_str = '\"ThumbnailURL\":\"'\n",
    "        if check_str in li_txt:\n",
    "            beg = li_txt.find(check_str)\n",
    "            end = li_txt.find('\"', beg + len(check_str))\n",
    "            return li_txt[beg+len(check_str):end]\n",
    "        else:\n",
    "            li_txt = str(li.img)\n",
    "            check_str = 'src=\"'\n",
    "            if check_str in li_txt:\n",
    "                beg = li_txt.find(check_str)\n",
    "                end = li_txt.find('\"', beg + len(check_str))\n",
    "                return li_txt[beg+len(check_str):end]\n",
    "    else:\n",
    "        print(\"Couldnt find li for {}\".format(url))\n",
    "        return \"OOPS\"\n",
    "        \n",
    "for i in bar(range(df.shape[0])):\n",
    "    h = df.iloc[i]\n",
    "    if h['photo_url'] != \"\":\n",
    "        continue\n",
    "    df.set_value(i, 'photo_url', get_photo_url(h['url']))"
   ]
  },
  {
   "cell_type": "code",
   "execution_count": 115,
   "metadata": {
    "collapsed": false
   },
   "outputs": [
    {
     "data": {
      "text/html": [
       "<div>\n",
       "<table border=\"1\" class=\"dataframe\">\n",
       "  <thead>\n",
       "    <tr style=\"text-align: right;\">\n",
       "      <th></th>\n",
       "      <th>Unnamed: 0</th>\n",
       "      <th>address</th>\n",
       "      <th>city</th>\n",
       "      <th>state</th>\n",
       "      <th>zip</th>\n",
       "      <th>price</th>\n",
       "      <th>sqft</th>\n",
       "      <th>bedrooms</th>\n",
       "      <th>bathrooms</th>\n",
       "      <th>days_on_zillow</th>\n",
       "      <th>sale_type</th>\n",
       "      <th>url</th>\n",
       "      <th>latitude</th>\n",
       "      <th>longitude</th>\n",
       "      <th>photo_url</th>\n",
       "    </tr>\n",
       "  </thead>\n",
       "  <tbody>\n",
       "    <tr>\n",
       "      <th>0</th>\n",
       "      <td>0</td>\n",
       "      <td>181 Ofarrell St Ste 305</td>\n",
       "      <td>San Francisco</td>\n",
       "      <td>CA</td>\n",
       "      <td>94102.0</td>\n",
       "      <td>1040000.0</td>\n",
       "      <td>1334.0</td>\n",
       "      <td>1.0</td>\n",
       "      <td>2.0</td>\n",
       "      <td>NaN</td>\n",
       "      <td>Condo For Sale</td>\n",
       "      <td>http://www.zillow.com/homes/for_sale/82785263_...</td>\n",
       "      <td>37.786274</td>\n",
       "      <td>-122.407564</td>\n",
       "      <td>https://photos.zillowstatic.com/p_h/ISqtn3q6r2...</td>\n",
       "    </tr>\n",
       "    <tr>\n",
       "      <th>1</th>\n",
       "      <td>1</td>\n",
       "      <td>342 Hayes St Apt B</td>\n",
       "      <td>San Francisco</td>\n",
       "      <td>CA</td>\n",
       "      <td>94102.0</td>\n",
       "      <td>1269000.0</td>\n",
       "      <td>NaN</td>\n",
       "      <td>2.0</td>\n",
       "      <td>2.5</td>\n",
       "      <td>NaN</td>\n",
       "      <td>Condo For Sale</td>\n",
       "      <td>http://www.zillow.com/homes/for_sale/15078395_...</td>\n",
       "      <td>37.777161</td>\n",
       "      <td>-122.422158</td>\n",
       "      <td>https://photos.zillowstatic.com/p_h/ISqtjgl08c...</td>\n",
       "    </tr>\n",
       "    <tr>\n",
       "      <th>2</th>\n",
       "      <td>2</td>\n",
       "      <td>650 Turk St Unit 406</td>\n",
       "      <td>San Francisco</td>\n",
       "      <td>CA</td>\n",
       "      <td>94102.0</td>\n",
       "      <td>499900.0</td>\n",
       "      <td>398.0</td>\n",
       "      <td>0.0</td>\n",
       "      <td>1.0</td>\n",
       "      <td>NaN</td>\n",
       "      <td>Condo For Sale</td>\n",
       "      <td>http://www.zillow.com/homes/for_sale/209988348...</td>\n",
       "      <td>37.782140</td>\n",
       "      <td>-122.420023</td>\n",
       "      <td>https://photos.zillowstatic.com/p_h/ISa5asnpms...</td>\n",
       "    </tr>\n",
       "    <tr>\n",
       "      <th>3</th>\n",
       "      <td>3</td>\n",
       "      <td>181 Ofarrell St Ste 509</td>\n",
       "      <td>San Francisco</td>\n",
       "      <td>CA</td>\n",
       "      <td>94102.0</td>\n",
       "      <td>948000.0</td>\n",
       "      <td>1076.0</td>\n",
       "      <td>1.0</td>\n",
       "      <td>2.0</td>\n",
       "      <td>NaN</td>\n",
       "      <td>Condo For Sale</td>\n",
       "      <td>http://www.zillow.com/homes/for_sale/82785281_...</td>\n",
       "      <td>37.786274</td>\n",
       "      <td>-122.407564</td>\n",
       "      <td>https://photos.zillowstatic.com/p_h/ISqpgbcud7...</td>\n",
       "    </tr>\n",
       "    <tr>\n",
       "      <th>4</th>\n",
       "      <td>4</td>\n",
       "      <td>653 Fell St</td>\n",
       "      <td>San Francisco</td>\n",
       "      <td>CA</td>\n",
       "      <td>94102.0</td>\n",
       "      <td>1298000.0</td>\n",
       "      <td>1760.0</td>\n",
       "      <td>0.0</td>\n",
       "      <td>NaN</td>\n",
       "      <td>NaN</td>\n",
       "      <td>Apartment For Sale</td>\n",
       "      <td>http://www.zillow.com/homes/for_sale/209463014...</td>\n",
       "      <td>37.774949</td>\n",
       "      <td>-122.428593</td>\n",
       "      <td>https://photos.zillowstatic.com/p_h/IS62dtea2h...</td>\n",
       "    </tr>\n",
       "  </tbody>\n",
       "</table>\n",
       "</div>"
      ],
      "text/plain": [
       "   Unnamed: 0                  address           city state      zip  \\\n",
       "0           0  181 Ofarrell St Ste 305  San Francisco    CA  94102.0   \n",
       "1           1       342 Hayes St Apt B  San Francisco    CA  94102.0   \n",
       "2           2     650 Turk St Unit 406  San Francisco    CA  94102.0   \n",
       "3           3  181 Ofarrell St Ste 509  San Francisco    CA  94102.0   \n",
       "4           4              653 Fell St  San Francisco    CA  94102.0   \n",
       "\n",
       "       price    sqft  bedrooms  bathrooms  days_on_zillow           sale_type  \\\n",
       "0  1040000.0  1334.0       1.0        2.0             NaN      Condo For Sale   \n",
       "1  1269000.0     NaN       2.0        2.5             NaN      Condo For Sale   \n",
       "2   499900.0   398.0       0.0        1.0             NaN      Condo For Sale   \n",
       "3   948000.0  1076.0       1.0        2.0             NaN      Condo For Sale   \n",
       "4  1298000.0  1760.0       0.0        NaN             NaN  Apartment For Sale   \n",
       "\n",
       "                                                 url   latitude   longitude  \\\n",
       "0  http://www.zillow.com/homes/for_sale/82785263_...  37.786274 -122.407564   \n",
       "1  http://www.zillow.com/homes/for_sale/15078395_...  37.777161 -122.422158   \n",
       "2  http://www.zillow.com/homes/for_sale/209988348...  37.782140 -122.420023   \n",
       "3  http://www.zillow.com/homes/for_sale/82785281_...  37.786274 -122.407564   \n",
       "4  http://www.zillow.com/homes/for_sale/209463014...  37.774949 -122.428593   \n",
       "\n",
       "                                           photo_url  \n",
       "0  https://photos.zillowstatic.com/p_h/ISqtn3q6r2...  \n",
       "1  https://photos.zillowstatic.com/p_h/ISqtjgl08c...  \n",
       "2  https://photos.zillowstatic.com/p_h/ISa5asnpms...  \n",
       "3  https://photos.zillowstatic.com/p_h/ISqpgbcud7...  \n",
       "4  https://photos.zillowstatic.com/p_h/IS62dtea2h...  "
      ]
     },
     "execution_count": 115,
     "metadata": {},
     "output_type": "execute_result"
    }
   ],
   "source": [
    "df.head()"
   ]
  },
  {
   "cell_type": "code",
   "execution_count": 118,
   "metadata": {
    "collapsed": false
   },
   "outputs": [
    {
     "name": "stdout",
     "output_type": "stream",
     "text": [
      "https://photos.zillowstatic.com/p_h/ISu82800si46ad1000000000.jpg\n"
     ]
    }
   ],
   "source": [
    "print(df.iloc[100]['photo_url'])"
   ]
  },
  {
   "cell_type": "code",
   "execution_count": 120,
   "metadata": {
    "collapsed": true
   },
   "outputs": [],
   "source": [
    "df = df[pd.notnull(df['price'])]\n",
    "df.to_csv('data/sf_zillow_apr_23_w_latlon_w_photo_url.csv')"
   ]
  },
  {
   "cell_type": "code",
   "execution_count": null,
   "metadata": {
    "collapsed": true
   },
   "outputs": [],
   "source": []
  }
 ],
 "metadata": {
  "kernelspec": {
   "display_name": "Python 2",
   "language": "python",
   "name": "python2"
  },
  "language_info": {
   "codemirror_mode": {
    "name": "ipython",
    "version": 2
   },
   "file_extension": ".py",
   "mimetype": "text/x-python",
   "name": "python",
   "nbconvert_exporter": "python",
   "pygments_lexer": "ipython2",
   "version": "2.7.13"
  }
 },
 "nbformat": 4,
 "nbformat_minor": 2
}
